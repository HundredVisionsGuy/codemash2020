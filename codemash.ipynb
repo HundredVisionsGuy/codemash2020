{
  "nbformat": 4,
  "nbformat_minor": 0,
  "metadata": {
    "kernelspec": {
      "name": "python3",
      "display_name": "Python 3"
    },
    "colab": {
      "name": "codemash.ipynb",
      "provenance": [],
      "collapsed_sections": [],
      "machine_shape": "hm",
      "include_colab_link": true
    },
    "accelerator": "GPU"
  },
  "cells": [
    {
      "cell_type": "markdown",
      "metadata": {
        "id": "view-in-github",
        "colab_type": "text"
      },
      "source": [
        "<a href=\"https://colab.research.google.com/github/lutherkhill/codemash2020/blob/master/codemash.ipynb\" target=\"_parent\"><img src=\"https://colab.research.google.com/assets/colab-badge.svg\" alt=\"Open In Colab\"/></a>"
      ]
    },
    {
      "cell_type": "markdown",
      "metadata": {
        "id": "Uhzv3f4W5Dt6",
        "colab_type": "text"
      },
      "source": [
        "# **A Civic Developers Quest to Change Healthcare**\n"
      ]
    },
    {
      "cell_type": "code",
      "metadata": {
        "id": "4WKQ9Ontl2hm",
        "colab_type": "code",
        "colab": {
          "base_uri": "https://localhost:8080/",
          "height": 321
        },
        "outputId": "02b6a8f9-2e0d-4c59-d0a0-a6a42751bf81"
      },
      "source": [
        "from IPython.display import YouTubeVideo\n",
        "YouTubeVideo('ZIiYbMVs7-8')"
      ],
      "execution_count": 1,
      "outputs": [
        {
          "output_type": "execute_result",
          "data": {
            "text/html": [
              "\n",
              "        <iframe\n",
              "            width=\"400\"\n",
              "            height=\"300\"\n",
              "            src=\"https://www.youtube.com/embed/ZIiYbMVs7-8\"\n",
              "            frameborder=\"0\"\n",
              "            allowfullscreen\n",
              "        ></iframe>\n",
              "        "
            ],
            "text/plain": [
              "<IPython.lib.display.YouTubeVideo at 0x7f95c30abb00>"
            ],
            "image/jpeg": "[encoded data removed]"
          },
          "metadata": {
            "tags": []
          },
          "execution_count": 1
        }
      ]
    },
    {
      "cell_type": "markdown",
      "metadata": {
        "id": "_BQPLny65mar",
        "colab_type": "text"
      },
      "source": [
        "##Description and problem statement"
      ]
    },
    {
      "cell_type": "markdown",
      "metadata": {
        "id": "Zn7R20cHcPEQ",
        "colab_type": "text"
      },
      "source": [
        "For this application we used PyTorch and FastAi libary to design our model. We got our data from Kaggle using the Chest X-ray datset from the National Insitutue of Health (NIH). We used Jupyter notebooks that was hosted in the cloud using Google Colab to build and deploy our model. the Google Colab infrastructure allows us to leverage free resources like Graphical Processing Units (GPU) and SSD hard drives. \n",
        "\n",
        "To train our "
      ]
    },
    {
      "cell_type": "markdown",
      "metadata": {
        "id": "7ugZPJq355bK",
        "colab_type": "text"
      },
      "source": [
        "##Goals for talk"
      ]
    },
    {
      "cell_type": "markdown",
      "metadata": {
        "id": "27x1gj2zmp13",
        "colab_type": "text"
      },
      "source": [
        ". More specifically, model performance is measured by the\n",
        "AUC scores over 5 diseases: Atelectasis, Cardiomegaly, Consolidation, Edema, and Pleural Effusion\n",
        "\n",
        "Atelectasis', 'Infiltration'"
      ]
    },
    {
      "cell_type": "markdown",
      "metadata": {
        "id": "EMwStqt-6Fk-",
        "colab_type": "text"
      },
      "source": [
        "# **The dataset**"
      ]
    },
    {
      "cell_type": "code",
      "metadata": {
        "id": "I7WHDAfJMBXs",
        "colab_type": "code",
        "outputId": "0b599ca4-41cd-49f9-e91a-ee92c051e91e",
        "colab": {
          "base_uri": "https://localhost:8080/",
          "height": 139
        }
      },
      "source": [
        "# Put these at the top of every notebook, to get automatic reloading and inline plotting\n",
        "%reload_ext autoreload\n",
        "%autoreload 2\n",
        "%matplotlib inline\n",
        "\n",
        "# load fastai dependencies\n",
        "import fastai\n",
        "from fastai.vision import *\n",
        "from fastai.metrics import *\n",
        "\n",
        "# Imports for diverse utilities\n",
        "import torchvision.models as models\n",
        "from tqdm import tqdm\n",
        "from shutil import copyfile\n",
        "import matplotlib.pyplot as plt\n",
        "import operator\n",
        "from PIL import Image\n",
        "from sys import intern\n",
        "from sklearn.metrics import roc_auc_score, recall_score\n",
        "\n",
        "#conect to google drive to easier storeage and redundency\n",
        "from google.colab import drive\n",
        "drive.mount('/gdrive')\n",
        "%cd /gdrive"
      ],
      "execution_count": 2,
      "outputs": [
        {
          "output_type": "stream",
          "text": [
            "Go to this URL in a browser: https://accounts.google.com/o/oauth2/auth?client_id=947318989803-6bn6qk8qdgf4n4g3pfee6491hc0brc4i.apps.googleusercontent.com&redirect_uri=urn%3aietf%3awg%3aoauth%3a2.0%3aoob&response_type=code&scope=email%20https%3a%2f%2fwww.googleapis.com%2fauth%2fdocs.test%20https%3a%2f%2fwww.googleapis.com%2fauth%2fdrive%20https%3a%2f%2fwww.googleapis.com%2fauth%2fdrive.photos.readonly%20https%3a%2f%2fwww.googleapis.com%2fauth%2fpeopleapi.readonly\n",
            "\n",
            "Enter your authorization code:\n",
            "··········\n",
            "Mounted at /gdrive\n",
            "/gdrive\n"
          ],
          "name": "stdout"
        }
      ]
    },
    {
      "cell_type": "code",
      "metadata": {
        "id": "FBxD3Y8D9y4R",
        "colab_type": "code",
        "colab": {}
      },
      "source": [
        "# build way to measure auroc[what is auroc?]\n",
        "def auroc_score(input_, target):\n",
        "    input_, target = input_.cpu().numpy(), target.cpu().numpy() #.reshape(-1, learn.data.c)\n",
        "    score = []\n",
        "    for i in range(14):\n",
        "        try: \n",
        "            score.append(roc_auc_score(target[:,i], input_[:,i]))\n",
        "        except ValueError:\n",
        "            score.append(0)\n",
        "    \n",
        "    return np.array(score).mean()\n",
        "\n",
        "#     def __init__(self):\n",
        "#         pass\n",
        "\n",
        "class AUROC(Callback):\n",
        "    _order = -20 #Needs to run before the recorder\n",
        "    def on_epoch_begin(self, **kwargs): self.output, self.target = [], []\n",
        "    \n",
        "    def on_batch_end(self, last_target, last_output, train, **kwargs):\n",
        "        if not train:\n",
        "            self.output.append(last_output)\n",
        "            self.target.append(last_target)\n",
        "                \n",
        "    def on_epoch_end(self, last_metrics, **kwargs):\n",
        "        if len(self.output) > 0:\n",
        "            output = torch.cat(self.output)\n",
        "            target = torch.cat(self.target)\n",
        "            metric = auroc_score(output, target)\n",
        "            return add_metrics(last_metrics, metric)"
      ],
      "execution_count": 0,
      "outputs": []
    },
    {
      "cell_type": "code",
      "metadata": {
        "id": "_hwjfPVyIPX8",
        "colab_type": "code",
        "colab": {
          "base_uri": "https://localhost:8080/",
          "height": 521
        },
        "outputId": "e7562913-13b0-4ff5-bafc-2ef44451c6b4"
      },
      "source": [
        "from IPython.display import IFrame\n",
        "IFrame('https://blog.revolutionanalytics.com/2016/11/calculating-auc.html',\n",
        "       width='100%', height=500)"
      ],
      "execution_count": 12,
      "outputs": [
        {
          "output_type": "execute_result",
          "data": {
            "text/html": [
              "\n",
              "        <iframe\n",
              "            width=\"100%\"\n",
              "            height=\"500\"\n",
              "            src=\"https://blog.revolutionanalytics.com/2016/11/calculating-auc.html\"\n",
              "            frameborder=\"0\"\n",
              "            allowfullscreen\n",
              "        ></iframe>\n",
              "        "
            ],
            "text/plain": [
              "<IPython.lib.display.IFrame at 0x7f955b8e0e80>"
            ]
          },
          "metadata": {
            "tags": []
          },
          "execution_count": 12
        }
      ]
    },
    {
      "cell_type": "markdown",
      "metadata": {
        "id": "K9a3ALG-MdIq",
        "colab_type": "text"
      },
      "source": [
        "## Get the data\n",
        "The NIH dataset is freely availble on kaggle. For this exercise we will be using a smaple set o the data. Let's see how to do this by using the Kaggle API as it's going to be pretty useful to you if you want to join a competition or use other Kaggle datasets later on.\n",
        "\n",
        "First, install the Kaggle API by uncommenting the following line and executing it, or by executing it in your terminal (depending on your platform you may need to modify this slightly to either add source activate fastai or similar, or prefix pip with a path. Have a look at how conda install is called for your platform in the appropriate Returning to work section of https://course.fast.ai/. (Depending on your environment, you may also need to append \"--user\" to the command.)"
      ]
    },
    {
      "cell_type": "code",
      "metadata": {
        "id": "oOXCRB40M7ns",
        "colab_type": "code",
        "colab": {}
      },
      "source": [
        "# install the kaggle command line tool\n",
        "# ! {sys.executable} -m pip install kaggle --upgrade"
      ],
      "execution_count": 0,
      "outputs": []
    },
    {
      "cell_type": "markdown",
      "metadata": {
        "id": "x6SjbkVDNL-9",
        "colab_type": "text"
      },
      "source": [
        "You're all set to download the data from planet competition. You first need to go to its main page and accept its rules, and run the two cells below (uncomment the shell commands to download and unzip the data). If you get a 403 forbidden error it means you haven't accepted the competition rules yet (you have to go to the competition page, click on Rules tab, and then scroll to the bottom to find the accept button)."
      ]
    },
    {
      "cell_type": "code",
      "metadata": {
        "id": "dj7fjq5LNX0U",
        "colab_type": "code",
        "colab": {}
      },
      "source": [
        "# this will download the dataset right into your gdrive and unzip the file\n",
        "# !kaggle datasets download -d nih-chest-xrays/sample\n",
        "# !unzip -q sample.zip"
      ],
      "execution_count": 0,
      "outputs": []
    },
    {
      "cell_type": "markdown",
      "metadata": {
        "id": "NR7hUHg0WzID",
        "colab_type": "text"
      },
      "source": [
        "## Corelation between labels"
      ]
    },
    {
      "cell_type": "markdown",
      "metadata": {
        "id": "A0xRn9B_y-Hr",
        "colab_type": "text"
      },
      "source": [
        "Atelectasis\n",
        "Consolidation\n",
        "Infiltration\n",
        "Pneumothorax\n",
        "Edema\n",
        "Emphysema\n",
        "Fibrosis\n",
        "Effusion\n",
        "Pneumonia\n",
        "Pleural_thickening\n",
        "Cardiomegaly\n",
        "Nodule Mass\n",
        "Hernia\n"
      ]
    },
    {
      "cell_type": "markdown",
      "metadata": {
        "id": "u7LYGWNjOg1t",
        "colab_type": "text"
      },
      "source": [
        "## Preprocess the data for learning\n",
        "\n"
      ]
    },
    {
      "cell_type": "code",
      "metadata": {
        "id": "QNXxVYAxO2Jv",
        "colab_type": "code",
        "colab": {}
      },
      "source": [
        "# set path to data\n",
        "path = \"/gdrive/My Drive/heart_disease/sample/images\"\n",
        "\n",
        "# set path for data labels\n",
        "df_label_nih = pd.read_csv(path+'/label_nih.csv')"
      ],
      "execution_count": 0,
      "outputs": []
    },
    {
      "cell_type": "code",
      "metadata": {
        "id": "wTpXFhL2QgtF",
        "colab_type": "code",
        "outputId": "7b305766-c6cb-45bc-b5e8-4203a67ba24f",
        "colab": {
          "base_uri": "https://localhost:8080/",
          "height": 119
        }
      },
      "source": [
        "#number of images\n",
        "img_files = os.listdir(path)\n",
        "img_files[:5], len(img_files)"
      ],
      "execution_count": 6,
      "outputs": [
        {
          "output_type": "execute_result",
          "data": {
            "text/plain": [
              "(['00027168_001.png',\n",
              "  '00027236_000.png',\n",
              "  '00027110_000.png',\n",
              "  '00027213_086.png',\n",
              "  '00027089_001.png'],\n",
              " 5611)"
            ]
          },
          "metadata": {
            "tags": []
          },
          "execution_count": 6
        }
      ]
    },
    {
      "cell_type": "code",
      "metadata": {
        "id": "ieDCq9bOIBwl",
        "colab_type": "code",
        "colab": {}
      },
      "source": [
        "# we are going to take a look at the first 5 and the last 5 rows\n",
        "df_label_nih.head(-1)"
      ],
      "execution_count": 0,
      "outputs": []
    },
    {
      "cell_type": "code",
      "metadata": {
        "id": "jnanAGstp3Vj",
        "colab_type": "code",
        "colab": {}
      },
      "source": [
        "df_label_nih.describe()"
      ],
      "execution_count": 0,
      "outputs": []
    },
    {
      "cell_type": "code",
      "metadata": {
        "id": "pRjT55YcRy5A",
        "colab_type": "code",
        "colab": {}
      },
      "source": [
        "# construct the the data source\n",
        "#convert to black and white\n",
        "#convert_mode='L'\n",
        "np.random.seed(42)\n",
        "src = (ImageList.from_csv(path, 'label_nih.csv').split_by_rand_pct(0.2).label_from_df(label_delim='|', cols='labels'))"
      ],
      "execution_count": 0,
      "outputs": []
    },
    {
      "cell_type": "code",
      "metadata": {
        "id": "9su7-zG3PgDB",
        "colab_type": "code",
        "colab": {}
      },
      "source": [
        "# sets the transformation for the dat to crop out unused parts of the image\n",
        "#tfms = zoom_crop(scale=0.75, do_rand=False)\n",
        "tfms = get_transforms(do_flip=True, \n",
        "                      flip_vert=False, \n",
        "                      max_rotate=5,\n",
        "                      max_zoom=1.03,\n",
        "                      max_lighting=0.03,\n",
        "                      max_warp=0.03,\n",
        "                      p_affine=0.05,\n",
        "                      p_lighting=0.05,\n",
        "                      )"
      ],
      "execution_count": 0,
      "outputs": []
    },
    {
      "cell_type": "code",
      "metadata": {
        "id": "TsJ_ml-2Sub9",
        "colab_type": "code",
        "colab": {}
      },
      "source": [
        "#construct data bunch (need to add weight decay and drop out rate to improve accuracy)\n",
        "data = (src.transform(size=512)\n",
        "        .databunch(bs=18).normalize(imagenet_stats))"
      ],
      "execution_count": 0,
      "outputs": []
    },
    {
      "cell_type": "code",
      "metadata": {
        "id": "FRfmbDFW3BcK",
        "colab_type": "code",
        "colab": {}
      },
      "source": [
        "# data bunch information\n",
        "data"
      ],
      "execution_count": 0,
      "outputs": []
    },
    {
      "cell_type": "code",
      "metadata": {
        "id": "ZrahpTBQzN2p",
        "colab_type": "code",
        "colab": {}
      },
      "source": [
        "# show the number of classes that your data has\n",
        "data.c"
      ],
      "execution_count": 0,
      "outputs": []
    },
    {
      "cell_type": "code",
      "metadata": {
        "id": "eOxdDy3azUB2",
        "colab_type": "code",
        "outputId": "4ae3c034-d8cf-46c3-f9ca-e1ad2c1c616b",
        "colab": {
          "base_uri": "https://localhost:8080/",
          "height": 255
        }
      },
      "source": [
        "# list the names of you data classes\n",
        "data.classes"
      ],
      "execution_count": 17,
      "outputs": [
        {
          "output_type": "execute_result",
          "data": {
            "text/plain": [
              "['Atelectasis',\n",
              " 'Cardiomegaly',\n",
              " 'Consolidation',\n",
              " 'Edema',\n",
              " 'Effusion',\n",
              " 'Emphysema',\n",
              " 'Fibrosis',\n",
              " 'Hernia',\n",
              " 'Infiltration',\n",
              " 'Mass',\n",
              " 'Nodule',\n",
              " 'Pleural_Thickening',\n",
              " 'Pneumonia',\n",
              " 'Pneumothorax']"
            ]
          },
          "metadata": {
            "tags": []
          },
          "execution_count": 17
        }
      ]
    },
    {
      "cell_type": "code",
      "metadata": {
        "id": "YQBhPG2_U1oK",
        "colab_type": "code",
        "colab": {}
      },
      "source": [
        "#display data bunch\n",
        "# size/quality of the image matters greatly from medical imaging analysis\n",
        "data.show_batch(rows=1, figsize=(12,9))"
      ],
      "execution_count": 0,
      "outputs": []
    },
    {
      "cell_type": "markdown",
      "metadata": {
        "id": "qUMihLG_TG7o",
        "colab_type": "text"
      },
      "source": [
        "#**The model**\n",
        "Our base architecture is `resnet50` again, but the metrics are a little bit differeent: we use `accuracy_thresh` instead of accuracy. We determined the predicition for a given class by picking the final activation that was the biggest, but here, each activation can be 0. or 1. `accuracy_thresh` selects the ones that are above a certain threshold (0.5 by default) and compares them to the ground truth.\n",
        "\n",
        "> Indented block\n",
        "\n"
      ]
    },
    {
      "cell_type": "markdown",
      "metadata": {
        "id": "zkLrAK5X3sAe",
        "colab_type": "text"
      },
      "source": [
        "### Single Model"
      ]
    },
    {
      "cell_type": "code",
      "metadata": {
        "id": "nFL5zL2IXY00",
        "colab_type": "code",
        "outputId": "af7886e7-4cf3-4c1d-e683-eccd8176c337",
        "colab": {
          "base_uri": "https://localhost:8080/",
          "height": 51
        }
      },
      "source": [
        "# create convolutional neural network and return the accuracy metric\n",
        "# area under the curve  callback_fns=AUROC\n",
        "# convert to 16bit\n",
        "#.to_fp16()\n",
        "learn = cnn_learner(data, models.resnet50, metrics=[AUROC(), fbeta]).to_fp32()"
      ],
      "execution_count": 15,
      "outputs": [
        {
          "output_type": "stream",
          "text": [
            "Downloading: \"https://download.pytorch.org/models/resnet50-19c8e357.pth\" to /root/.cache/torch/checkpoints/resnet50-19c8e357.pth\n",
            "100%|██████████| 97.8M/97.8M [00:00<00:00, 343MB/s]\n"
          ],
          "name": "stderr"
        }
      ]
    },
    {
      "cell_type": "code",
      "metadata": {
        "id": "fKjILOYh0YQy",
        "colab_type": "code",
        "colab": {}
      },
      "source": [
        "# show architecture\n",
        "learn.model"
      ],
      "execution_count": 0,
      "outputs": []
    },
    {
      "cell_type": "code",
      "metadata": {
        "id": "pHAmL2in0cqQ",
        "colab_type": "code",
        "colab": {}
      },
      "source": [
        "# show model summary\n",
        "learn.summary()"
      ],
      "execution_count": 0,
      "outputs": []
    },
    {
      "cell_type": "markdown",
      "metadata": {
        "id": "4oZYObq0b1nt",
        "colab_type": "text"
      },
      "source": [
        "We use the LR Finder to pick a good learning rate"
      ]
    },
    {
      "cell_type": "code",
      "metadata": {
        "id": "XHomqkwdb3Yg",
        "colab_type": "code",
        "outputId": "83ded5ac-96d3-4427-c083-4ee581a5a28c",
        "colab": {
          "base_uri": "https://localhost:8080/",
          "height": 296
        }
      },
      "source": [
        " # find the ideal inital learning rate for your model\n",
        "GoogleNet_learner.lr_find()\n",
        "GoogleNet_learner.recorder.plot()"
      ],
      "execution_count": 14,
      "outputs": [
        {
          "output_type": "display_data",
          "data": {
            "text/html": [
              ""
            ],
            "text/plain": [
              "<IPython.core.display.HTML object>"
            ]
          },
          "metadata": {
            "tags": []
          }
        },
        {
          "output_type": "stream",
          "text": [
            "LR Finder is complete, type {learner_name}.recorder.plot() to see the graph.\n"
          ],
          "name": "stdout"
        },
        {
          "output_type": "display_data",
          "data": {
            "image/png": "[encoded data removed]",
            "text/plain": [
              "<Figure size 432x288 with 1 Axes>"
            ]
          },
          "metadata": {
            "tags": []
          }
        }
      ]
    },
    {
      "cell_type": "code",
      "metadata": {
        "id": "1bC-GNmLb_AK",
        "colab_type": "code",
        "colab": {}
      },
      "source": [
        "# to pic the ideal learning rate we find the stepest part of the curve and back it up by a factor of ten.\n",
        "#GoogleNet_learner.fit_one_cycle(1, slice(1e-01, 1e-02))"
      ],
      "execution_count": 0,
      "outputs": []
    },
    {
      "cell_type": "markdown",
      "metadata": {
        "id": "OYVl-OlV15GQ",
        "colab_type": "text"
      },
      "source": [
        "### Ensemble Model"
      ]
    },
    {
      "cell_type": "code",
      "metadata": {
        "id": "PubhEoRK0p3A",
        "colab_type": "code",
        "colab": {}
      },
      "source": [
        "# I want to train three different models and let them work in an ensemble together.\n",
        "#First let's define the function for training with the architecture as input parameters. \n",
        "#I selected a batch size of 32 and applied data augmentation to it.\n",
        "#train_path = path\n",
        "#number_epochs=5\n",
        "#slices = slice(1e-01,1e-02) #\n",
        "\n",
        "def train(arch, number_epochs, slices):\n",
        "    \n",
        "    #construct data bunch (need to add weight decay and drop out rate to improve accuracy)\n",
        "    data = (src.transform(size=512).databunch(bs=32).normalize(imagenet_stats))\n",
        "\n",
        "    #define learner\n",
        "    learn = cnn_learner(data, arch, metrics=[AUROC(), fbeta]).to_fp32()\n",
        "\n",
        "    #train\n",
        "    learn.fit_one_cycle(number_epochs, slices)\n",
        "    \n",
        "    return learn"
      ],
      "execution_count": 0,
      "outputs": []
    },
    {
      "cell_type": "code",
      "metadata": {
        "id": "HCVV7aEI2tMR",
        "colab_type": "code",
        "colab": {}
      },
      "source": [
        "#Lets train the three different model architectures: Resnet50, densenet121 and vgg19_bn\n",
        "# GoogleNet_learner = train(models.googlenet, 1, slice(1e-01, 1e-02))\n",
        "# DenseNet_learner = train(models.densenet201, 1, slice(1e-01, 1e-02))\n",
        "# ResNext_learner = train(models.resnext101_32x8d, 1, slice(1e-01, 1e-02))\n",
        "# SqueezeNet_learner = train(models.squeezenet1_1, 1, slice(1e-01, 1e-02))\n",
        "# VGG_learner = train(models.vgg19_bn, 1, slice(1e-01, 1e-02))\n",
        "# WideResnet_learner = train(models.wide_resnet101_2, 1, slice(1e-01, 1e-02))\n",
        "# MnasNet_learner = train(models.mnasnet1_3, 1, slice(1e-01, 1e-02))\n",
        "# Inception_learner = train(models.inception_v3, 1, slice(1e-01, 1e-02))\n",
        "# ShuffleNet_learner = train(models.shufflenet_v2_x2_0, 1, slice(1e-01, 1e-02))\n",
        "# AlexNet_learner = train(models.alexnet, 1, slice(1e-01, 1e-02))"
      ],
      "execution_count": 0,
      "outputs": []
    },
    {
      "cell_type": "code",
      "metadata": {
        "id": "oExUjTDVGflU",
        "colab_type": "code",
        "colab": {}
      },
      "source": [
        "GoogleNet_learner = train(models.googlenet, 10, slice(1e-05, 1e-06))\n"
      ],
      "execution_count": 0,
      "outputs": []
    },
    {
      "cell_type": "code",
      "metadata": {
        "id": "KSLSsfYl22Ct",
        "colab_type": "code",
        "colab": {}
      },
      "source": [
        "#Build ensemble\n",
        "#Build an ensemble and use it for prediction\n",
        "\n",
        "result_csv = 'submission.csv'\n",
        "test_path = '../input/test/test/'\n",
        "\n",
        "def ensemble_predition(test_img):\n",
        "    img = open_image(test_img)\n",
        "\n",
        "    \n",
        "    #resnet_pred = resnet_learner.predict(img)\n",
        "    #alexnet_pred = alexnet_learner.predict(img)\n",
        "    GoogleNet_prediction = GoogleNet_learner.predict(img)\n",
        "    DenseNet_prediction = DenseNet_learner.predict(img)\n",
        "    ResNext_prediction = ResNext_learner.predict(img)\n",
        "    # SqueezeNet_prediction = SqueezeNet_learner.predict(img)\n",
        "    VGG_prediction = VGG_learner.predict(img)\n",
        "    WideResnet_prediction = WideResnet_learner.predict(img)\n",
        "    Inception_prediction = Inception_learner.predict(img)\n",
        "    # ShuffleNet_prediction = ShuffleNet_learner.predict(img)\n",
        "    # AlexNet_prediction = AlexNet_learner.predict(img)\n",
        "    \n",
        "    #ensemble average\n",
        "    # sum_pred = resnet_pred[2]+alexnet_pred[2]\n",
        "    # prediction = sum_pred/2\n",
        "    sum_pred = GoogleNet_prediction[2]+DenseNet_prediction[2]+ResNext_prediction[2]+\\VGG_prediction[2]+WideResnet_prediction[2]+Inception_prediction[2]\n",
        "    prediction = sum_pred / 6\n",
        "    \n",
        "    #prediction results\n",
        "    predicted_label = torch.argmax(prediction).item()\n",
        "    \n",
        "    return predicted_label"
      ],
      "execution_count": 0,
      "outputs": []
    },
    {
      "cell_type": "code",
      "metadata": {
        "id": "kMWAY1ebRP45",
        "colab_type": "code",
        "colab": {
          "base_uri": "https://localhost:8080/",
          "height": 34
        },
        "outputId": "2c1b5496-16ba-44bc-f4cb-dd051822afe5"
      },
      "source": [
        "test_img = path+'/test.jpg'\n",
        "\n",
        "ensemble_predition(test_img)"
      ],
      "execution_count": 23,
      "outputs": [
        {
          "output_type": "execute_result",
          "data": {
            "text/plain": [
              "4"
            ]
          },
          "metadata": {
            "tags": []
          },
          "execution_count": 23
        }
      ]
    },
    {
      "cell_type": "code",
      "metadata": {
        "id": "2a1twr3AdA8Z",
        "colab_type": "code",
        "colab": {
          "base_uri": "https://localhost:8080/",
          "height": 255
        },
        "outputId": "69a0bb1f-5979-4601-b655-6c0976c387ff"
      },
      "source": [
        "data.classes"
      ],
      "execution_count": 22,
      "outputs": [
        {
          "output_type": "execute_result",
          "data": {
            "text/plain": [
              "['Atelectasis',\n",
              " 'Cardiomegaly',\n",
              " 'Consolidation',\n",
              " 'Edema',\n",
              " 'Effusion',\n",
              " 'Emphysema',\n",
              " 'Fibrosis',\n",
              " 'Hernia',\n",
              " 'Infiltration',\n",
              " 'Mass',\n",
              " 'Nodule',\n",
              " 'Pleural_Thickening',\n",
              " 'Pneumonia',\n",
              " 'Pneumothorax']"
            ]
          },
          "metadata": {
            "tags": []
          },
          "execution_count": 22
        }
      ]
    },
    {
      "cell_type": "code",
      "metadata": {
        "id": "CQOK-Qw9IYuV",
        "colab_type": "code",
        "colab": {}
      },
      "source": [
        "#to give np array the correct style\n",
        "submission_data = np.array([['dummy', 0]])\n",
        "\n",
        "#progress bar\n",
        "with tqdm(total=len(os.listdir(path))) as pbar:       \n",
        "    #test all test images\n",
        "    for img in os.listdir(path):\n",
        "        label = ensemble_predition(img)\n",
        "        new_np_array = np.array([[img, label]])\n",
        "        submission_data = np.concatenate((submission_data, new_np_array), axis=0)\n",
        "        pbar.update(1)\n",
        "\n",
        "#remove dummy\n",
        "submission_data = np.delete(submission_data, 0, 0)\n",
        "\n",
        "#save final submission\n",
        "result_df = pd.DataFrame(submission_data, columns=['img','Diagnosis'])\n",
        "result_df.to_csv(result_csv, index=False)"
      ],
      "execution_count": 0,
      "outputs": []
    },
    {
      "cell_type": "markdown",
      "metadata": {
        "id": "f18QeeiOzEst",
        "colab_type": "text"
      },
      "source": [
        "## Metrics"
      ]
    },
    {
      "cell_type": "code",
      "metadata": {
        "colab_type": "code",
        "id": "oDiYRm7keNX9",
        "colab": {}
      },
      "source": [
        "# we will start taking a look a the metrics\n",
        "learn.recorder.plot_metrics()"
      ],
      "execution_count": 0,
      "outputs": []
    },
    {
      "cell_type": "code",
      "metadata": {
        "id": "tjPLVJJPOBTN",
        "colab_type": "code",
        "outputId": "84e6bc49-b79f-40d4-ee17-33419b1608af",
        "colab": {
          "base_uri": "https://localhost:8080/",
          "height": 34
        }
      },
      "source": [
        "#Look at your 9 worst results. By using a heatmap to see what induced the wrong classification:\n",
        "interp = ClassificationInterpretation.from_learner(resnet_learner, alexnet_learner)\n",
        "losses,idxs = interp.top_losses()\n",
        "len(data.valid_ds)==len(losses)==len(idxs)"
      ],
      "execution_count": 26,
      "outputs": [
        {
          "output_type": "execute_result",
          "data": {
            "text/plain": [
              "False"
            ]
          },
          "metadata": {
            "tags": []
          },
          "execution_count": 26
        }
      ]
    },
    {
      "cell_type": "code",
      "metadata": {
        "id": "lkF2Y1gxrf6-",
        "colab_type": "code",
        "colab": {}
      },
      "source": [
        "#plot top losses\n",
        "interp.plot_multi_top_losses(9, figsize=(20,11))"
      ],
      "execution_count": 0,
      "outputs": []
    },
    {
      "cell_type": "code",
      "metadata": {
        "id": "7TzKTgLIURIX",
        "colab_type": "code",
        "outputId": "ec2e7765-c605-447f-8a7c-1f7f920d8d76",
        "colab": {
          "base_uri": "https://localhost:8080/",
          "height": 623
        }
      },
      "source": [
        "#confusion matrices that show you in a better way how good the CNN has performed\n",
        "interp.plot_confusion_matrix(figsize=(10,10), dpi=60)"
      ],
      "execution_count": 28,
      "outputs": [
        {
          "output_type": "display_data",
          "data": {
            "image/png": "[encoded data removed]",
            "text/plain": [
              "<Figure size 600x600 with 1 Axes>"
            ]
          },
          "metadata": {
            "tags": []
          }
        }
      ]
    },
    {
      "cell_type": "code",
      "metadata": {
        "id": "Hwf3Dx11vWPw",
        "colab_type": "code",
        "colab": {}
      },
      "source": [
        "# display heatmap\n",
        "# Thanks to https://nbviewer.jupyter.org/github/fastai/course-v3/blob/master/nbs/dl1/lesson6-pets-more.ipynb\n",
        "from fastai.callbacks.hooks import *\n",
        "\n",
        "def visualize_cnn_by_cam(learn, data_index):\n",
        "    x, _y = learn.data.valid_ds[data_index]\n",
        "    y = _y.data\n",
        "    if not isinstance(y, (list, np.ndarray)): # single label -> one hot encoding\n",
        "        y = np.eye(learn.data.valid_ds.c)[y]\n",
        "\n",
        "    m = learn.model.eval()\n",
        "    xb,_ = learn.data.one_item(x)\n",
        "    xb_im = Image(learn.data.denorm(xb)[0])\n",
        "    xb = xb.cuda()\n",
        "\n",
        "    def hooked_backward(cat):\n",
        "        with hook_output(m[0]) as hook_a: \n",
        "            with hook_output(m[0], grad=True) as hook_g:\n",
        "                preds = m(xb)\n",
        "                preds[0,int(cat)].backward()\n",
        "        return hook_a,hook_g\n",
        "    def show_heatmap(img, hm, label):\n",
        "        _,axs = plt.subplots(1, 2)\n",
        "        axs[0].set_title(label)\n",
        "        img.show(axs[0])\n",
        "        axs[1].set_title(f'CAM of {label}')\n",
        "        img.show(axs[1])\n",
        "        axs[1].imshow(hm, alpha=0.6, extent=(0,img.shape[1],img.shape[1],0),\n",
        "                      interpolation='bilinear', cmap='magma');\n",
        "        plt.show()\n",
        "\n",
        "    for y_i in np.where(y > 0)[0]:\n",
        "        hook_a,hook_g = hooked_backward(cat=y_i)\n",
        "        acts = hook_a.stored[0].cpu()\n",
        "        grad = hook_g.stored[0][0].cpu()\n",
        "        grad_chan = grad.mean(1).mean(1)\n",
        "        mult = (acts*grad_chan[...,None,None]).mean(0)\n",
        "        show_heatmap(img=xb_im, hm=mult, label=str(learn.data.valid_ds.y[data_index]))\n",
        "\n",
        "for idx in range(10):\n",
        "    visualize_cnn_by_cam(learn, idx)"
      ],
      "execution_count": 0,
      "outputs": []
    },
    {
      "cell_type": "code",
      "metadata": {
        "id": "wjDzMnqUUGL7",
        "colab_type": "code",
        "outputId": "30208a30-8d92-40d6-af40-1eed1670494a",
        "colab": {
          "base_uri": "https://localhost:8080/",
          "height": 170
        }
      },
      "source": [
        "interp.most_confused(min_val=2)"
      ],
      "execution_count": 29,
      "outputs": [
        {
          "output_type": "execute_result",
          "data": {
            "text/plain": [
              "[('Atelectasis', 'Infiltration', 18038),\n",
              " ('Atelectasis', 'Effusion', 3322),\n",
              " ('Cardiomegaly', 'Infiltration', 2234),\n",
              " ('Atelectasis', 'Nodule', 1420),\n",
              " ('Cardiomegaly', 'Effusion', 416),\n",
              " ('Cardiomegaly', 'Atelectasis', 340),\n",
              " ('Cardiomegaly', 'Nodule', 162),\n",
              " ('Atelectasis', 'Mass', 39),\n",
              " ('Cardiomegaly', 'Mass', 3)]"
            ]
          },
          "metadata": {
            "tags": []
          },
          "execution_count": 29
        }
      ]
    },
    {
      "cell_type": "code",
      "metadata": {
        "id": "_Gf_qHhVVP_A",
        "colab_type": "code",
        "colab": {}
      },
      "source": [
        "#unfreeze previous model to continue improving the model\n",
        "learn.unfreeze()"
      ],
      "execution_count": 0,
      "outputs": []
    },
    {
      "cell_type": "code",
      "metadata": {
        "colab_type": "code",
        "id": "Fh8nhKM-QlvK",
        "colab": {}
      },
      "source": [
        "# save the initial model\n",
        "learn.save('codemash-1-resnet50-16bit')"
      ],
      "execution_count": 0,
      "outputs": []
    },
    {
      "cell_type": "code",
      "metadata": {
        "id": "nR1jqPmucfyo",
        "colab_type": "code",
        "colab": {}
      },
      "source": [
        "# save the initial model\n",
        "learn.save('name-iteration_num-architecture-flags')"
      ],
      "execution_count": 0,
      "outputs": []
    },
    {
      "cell_type": "code",
      "metadata": {
        "id": "_u2bWUd-tQBc",
        "colab_type": "code",
        "colab": {}
      },
      "source": [
        "# EXPORT MODEL\n",
        "learner.export('name-iteration_num-architecture-flags'')"
      ],
      "execution_count": 0,
      "outputs": []
    },
    {
      "cell_type": "markdown",
      "metadata": {
        "id": "pKBbbY4Ps3rd",
        "colab_type": "text"
      },
      "source": [
        "## Test the Finished Model"
      ]
    },
    {
      "cell_type": "code",
      "metadata": {
        "id": "o9WOrZzyZ2HZ",
        "colab_type": "code",
        "colab": {
          "base_uri": "https://localhost:8080/",
          "height": 181
        },
        "outputId": "dee55dd8-6114-4cbf-f5b0-23a7aeaaa3ce"
      },
      "source": [
        "val_preds = model.get_preds(ds_type=DatasetType.Valid)[0].cpu().numpy()\n",
        "val_true = df_labels.query('subset==\"valid\"')[model.data.classes].values"
      ],
      "execution_count": 30,
      "outputs": [
        {
          "output_type": "error",
          "ename": "NameError",
          "evalue": "ignored",
          "traceback": [
            "\u001b[0;31m---------------------------------------------------------------------------\u001b[0m",
            "\u001b[0;31mNameError\u001b[0m                                 Traceback (most recent call last)",
            "\u001b[0;32m<ipython-input-30-c14bc5be12b3>\u001b[0m in \u001b[0;36m<module>\u001b[0;34m()\u001b[0m\n\u001b[0;32m----> 1\u001b[0;31m \u001b[0mval_preds\u001b[0m \u001b[0;34m=\u001b[0m \u001b[0mmodel\u001b[0m\u001b[0;34m.\u001b[0m\u001b[0mget_preds\u001b[0m\u001b[0;34m(\u001b[0m\u001b[0mds_type\u001b[0m\u001b[0;34m=\u001b[0m\u001b[0mDatasetType\u001b[0m\u001b[0;34m.\u001b[0m\u001b[0mValid\u001b[0m\u001b[0;34m)\u001b[0m\u001b[0;34m[\u001b[0m\u001b[0;36m0\u001b[0m\u001b[0;34m]\u001b[0m\u001b[0;34m.\u001b[0m\u001b[0mcpu\u001b[0m\u001b[0;34m(\u001b[0m\u001b[0;34m)\u001b[0m\u001b[0;34m.\u001b[0m\u001b[0mnumpy\u001b[0m\u001b[0;34m(\u001b[0m\u001b[0;34m)\u001b[0m\u001b[0;34m\u001b[0m\u001b[0;34m\u001b[0m\u001b[0m\n\u001b[0m\u001b[1;32m      2\u001b[0m \u001b[0mval_true\u001b[0m \u001b[0;34m=\u001b[0m \u001b[0mdf_labels\u001b[0m\u001b[0;34m.\u001b[0m\u001b[0mquery\u001b[0m\u001b[0;34m(\u001b[0m\u001b[0;34m'subset==\"valid\"'\u001b[0m\u001b[0;34m)\u001b[0m\u001b[0;34m[\u001b[0m\u001b[0mmodel\u001b[0m\u001b[0;34m.\u001b[0m\u001b[0mdata\u001b[0m\u001b[0;34m.\u001b[0m\u001b[0mclasses\u001b[0m\u001b[0;34m]\u001b[0m\u001b[0;34m.\u001b[0m\u001b[0mvalues\u001b[0m\u001b[0;34m\u001b[0m\u001b[0;34m\u001b[0m\u001b[0m\n",
            "\u001b[0;31mNameError\u001b[0m: name 'model' is not defined"
          ]
        }
      ]
    },
    {
      "cell_type": "code",
      "metadata": {
        "id": "mQhClPgxZ2Ha",
        "colab_type": "code",
        "outputId": "e6b302ff-aa2e-432b-d6ef-ce88edd20cf0",
        "colab": {}
      },
      "source": [
        "roc_auc_score(val_true, val_preds)"
      ],
      "execution_count": 0,
      "outputs": [
        {
          "output_type": "execute_result",
          "data": {
            "text/plain": [
              "0.7834816540711038"
            ]
          },
          "metadata": {
            "tags": []
          },
          "execution_count": 55
        }
      ]
    },
    {
      "cell_type": "code",
      "metadata": {
        "id": "XAcGXh-lZ2Hb",
        "colab_type": "code",
        "outputId": "3411b45f-04fa-4264-cf02-48618cbad365",
        "colab": {}
      },
      "source": [
        "auc_test_classes = {model.data.classes[i]: round(roc_auc_score(val_true[:, i], \n",
        "                                                         val_preds[:, i])*100, 2) \n",
        "              for i in range(14)}\n",
        "\n",
        "results = pd.DataFrame(\n",
        "            {\n",
        "                'condition' : list(auc_test_classes.keys()),\n",
        "                'auc' : [f'{i}%' for i in list(auc_test_classes.values())]\n",
        "            }\n",
        "        )[['condition', 'auc']]\n",
        "\n",
        "results"
      ],
      "execution_count": 0,
      "outputs": [
        {
          "output_type": "execute_result",
          "data": {
            "text/html": [
              "<div>\n",
              "<style scoped>\n",
              "    .dataframe tbody tr th:only-of-type {\n",
              "        vertical-align: middle;\n",
              "    }\n",
              "\n",
              "    .dataframe tbody tr th {\n",
              "        vertical-align: top;\n",
              "    }\n",
              "\n",
              "    .dataframe thead th {\n",
              "        text-align: right;\n",
              "    }\n",
              "</style>\n",
              "<table border=\"1\" class=\"dataframe\">\n",
              "  <thead>\n",
              "    <tr style=\"text-align: right;\">\n",
              "      <th></th>\n",
              "      <th>condition</th>\n",
              "      <th>auc</th>\n",
              "    </tr>\n",
              "  </thead>\n",
              "  <tbody>\n",
              "    <tr>\n",
              "      <th>0</th>\n",
              "      <td>Atelectasis</td>\n",
              "      <td>78.41%</td>\n",
              "    </tr>\n",
              "    <tr>\n",
              "      <th>1</th>\n",
              "      <td>Cardiomegaly</td>\n",
              "      <td>87.67%</td>\n",
              "    </tr>\n",
              "    <tr>\n",
              "      <th>2</th>\n",
              "      <td>Consolidation</td>\n",
              "      <td>77.46%</td>\n",
              "    </tr>\n",
              "    <tr>\n",
              "      <th>3</th>\n",
              "      <td>Edema</td>\n",
              "      <td>88.21%</td>\n",
              "    </tr>\n",
              "    <tr>\n",
              "      <th>4</th>\n",
              "      <td>Effusion</td>\n",
              "      <td>85.61%</td>\n",
              "    </tr>\n",
              "    <tr>\n",
              "      <th>5</th>\n",
              "      <td>Emphysema</td>\n",
              "      <td>85.41%</td>\n",
              "    </tr>\n",
              "    <tr>\n",
              "      <th>6</th>\n",
              "      <td>Fibrosis</td>\n",
              "      <td>77.44%</td>\n",
              "    </tr>\n",
              "    <tr>\n",
              "      <th>7</th>\n",
              "      <td>Hernia</td>\n",
              "      <td>76.57%</td>\n",
              "    </tr>\n",
              "    <tr>\n",
              "      <th>8</th>\n",
              "      <td>Infiltration</td>\n",
              "      <td>70.55%</td>\n",
              "    </tr>\n",
              "    <tr>\n",
              "      <th>9</th>\n",
              "      <td>Mass</td>\n",
              "      <td>74.54%</td>\n",
              "    </tr>\n",
              "    <tr>\n",
              "      <th>10</th>\n",
              "      <td>Nodule</td>\n",
              "      <td>65.12%</td>\n",
              "    </tr>\n",
              "    <tr>\n",
              "      <th>11</th>\n",
              "      <td>Pleural_Thickening</td>\n",
              "      <td>73.89%</td>\n",
              "    </tr>\n",
              "    <tr>\n",
              "      <th>12</th>\n",
              "      <td>Pneumonia</td>\n",
              "      <td>72.16%</td>\n",
              "    </tr>\n",
              "    <tr>\n",
              "      <th>13</th>\n",
              "      <td>Pneumothorax</td>\n",
              "      <td>83.84%</td>\n",
              "    </tr>\n",
              "  </tbody>\n",
              "</table>\n",
              "</div>"
            ],
            "text/plain": [
              "             condition     auc\n",
              "0          Atelectasis  78.41%\n",
              "1         Cardiomegaly  87.67%\n",
              "2        Consolidation  77.46%\n",
              "3                Edema  88.21%\n",
              "4             Effusion  85.61%\n",
              "5            Emphysema  85.41%\n",
              "6             Fibrosis  77.44%\n",
              "7               Hernia  76.57%\n",
              "8         Infiltration  70.55%\n",
              "9                 Mass  74.54%\n",
              "10              Nodule  65.12%\n",
              "11  Pleural_Thickening  73.89%\n",
              "12           Pneumonia  72.16%\n",
              "13        Pneumothorax  83.84%"
            ]
          },
          "metadata": {
            "tags": []
          },
          "execution_count": 56
        }
      ]
    },
    {
      "cell_type": "code",
      "metadata": {
        "id": "vJgNiVEotrCj",
        "colab_type": "code",
        "colab": {}
      },
      "source": [
        "# load model for inference / predictions\n",
        "learn = load_learner(\"model path\")"
      ],
      "execution_count": 0,
      "outputs": []
    },
    {
      "cell_type": "code",
      "metadata": {
        "id": "LD6BTVJGs82L",
        "colab_type": "code",
        "colab": {}
      },
      "source": [
        "# load image and use it for prediction\n",
        "img = learner.data.train_ds[0][0]\n",
        "learner.predict(img)"
      ],
      "execution_count": 0,
      "outputs": []
    },
    {
      "cell_type": "markdown",
      "metadata": {
        "id": "hzgYFf82YKjs",
        "colab_type": "text"
      },
      "source": [
        "## Diagnosing and fixing problems"
      ]
    },
    {
      "cell_type": "markdown",
      "metadata": {
        "id": "q7l0abjpajWF",
        "colab_type": "text"
      },
      "source": [
        "I added this section because of the GPU memory management issues i kept running into with working with the notebook. The basic problems comes from limited memory capicity in most cloud services. Periodically you will have to free up memory to keep the training process going. this section will help you identify memory bottle necks and fix them."
      ]
    },
    {
      "cell_type": "code",
      "metadata": {
        "id": "Te8MFqo4Xxg5",
        "colab_type": "code",
        "outputId": "299a4c42-77f9-4354-ef28-b88d44333389",
        "colab": {
          "base_uri": "https://localhost:8080/",
          "height": 513
        }
      },
      "source": [
        "# use to identify gpu mem usage\n",
        "!/opt/bin/nvidia-smi\n",
        "!nvcc --version\n",
        "\n",
        "#identify processes using gpu memory\n",
        "print(\"\\nKill process with 'ipykernel_launcher'\\n\")\n",
        "!ps -aux|grep python"
      ],
      "execution_count": 1,
      "outputs": [
        {
          "output_type": "stream",
          "text": [
            "Sun Dec  1 21:43:20 2019       \n",
            "+-----------------------------------------------------------------------------+\n",
            "| NVIDIA-SMI 418.67       Driver Version: 418.67       CUDA Version: 10.1     |\n",
            "|-------------------------------+----------------------+----------------------+\n",
            "| GPU  Name        Persistence-M| Bus-Id        Disp.A | Volatile Uncorr. ECC |\n",
            "| Fan  Temp  Perf  Pwr:Usage/Cap|         Memory-Usage | GPU-Util  Compute M. |\n",
            "|===============================+======================+======================|\n",
            "|   0  Tesla P100-PCIE...  Off  | 00000000:00:04.0 Off |                    0 |\n",
            "| N/A   36C    P0    27W / 250W |      0MiB / 16280MiB |      0%      Default |\n",
            "+-------------------------------+----------------------+----------------------+\n",
            "                                                                               \n",
            "+-----------------------------------------------------------------------------+\n",
            "| Processes:                                                       GPU Memory |\n",
            "|  GPU       PID   Type   Process name                             Usage      |\n",
            "|=============================================================================|\n",
            "|  No running processes found                                                 |\n",
            "+-----------------------------------------------------------------------------+\n",
            "nvcc: NVIDIA (R) Cuda compiler driver\n",
            "Copyright (c) 2005-2018 NVIDIA Corporation\n",
            "Built on Sat_Aug_25_21:08:01_CDT_2018\n",
            "Cuda compilation tools, release 10.0, V10.0.130\n",
            "\n",
            "Kill process with 'ipykernel_launcher'\n",
            "\n",
            "root          24  0.2  0.4 485312 109256 ?       Sl   20:23   0:12 /usr/bin/python2 /usr/local/bin/jupyter-notebook --ip=\"172.28.0.2\" --port=9000 --FileContentsManager.root_dir=\"/\" --MappingKernelManager.root_dir=\"/content\"\n",
            "root        2276  5.9  0.5 709632 151356 ?       Ssl  21:42   0:01 /usr/bin/python3 -m ipykernel_launcher -f /root/.local/share/jupyter/runtime/kernel-a3ca75e3-a671-4738-b417-1657f6426261.json\n",
            "root        2302  0.0  0.0  39192  6532 ?        S    21:43   0:00 /bin/bash -c ps -aux|grep python\n",
            "root        2304  0.0  0.0  38572  5636 ?        S    21:43   0:00 grep python\n"
          ],
          "name": "stdout"
        }
      ]
    },
    {
      "cell_type": "code",
      "metadata": {
        "id": "2v7ND_AnaSC8",
        "colab_type": "code",
        "colab": {}
      },
      "source": [
        "# kill process with \"ipkernel_launcher\" to free gpu memory\n",
        "!kill -9 1765"
      ],
      "execution_count": 0,
      "outputs": []
    },
    {
      "cell_type": "markdown",
      "metadata": {
        "id": "rN7AW4Ax6TB_",
        "colab_type": "text"
      },
      "source": [
        "# **Deploy model on webapp**\n",
        "\n",
        "- www.render.com\n",
        "- www.github.com\n"
      ]
    },
    {
      "cell_type": "code",
      "metadata": {
        "id": "yefkEuP14bAc",
        "colab_type": "code",
        "colab": {}
      },
      "source": [
        ""
      ],
      "execution_count": 0,
      "outputs": []
    }
  ]
}