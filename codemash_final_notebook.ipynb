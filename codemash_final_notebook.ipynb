{
  "nbformat": 4,
  "nbformat_minor": 0,
  "metadata": {
    "colab": {
      "name": "codemash_final_notebook.ipynb",
      "provenance": [],
      "collapsed_sections": [
        "Uhzv3f4W5Dt6",
        "EMwStqt-6Fk-",
        "rN7AW4Ax6TB_",
        "gWwMVlWE6kt9",
        "p5KN1q-V7gjN"
      ],
      "include_colab_link": true
    },
    "kernelspec": {
      "name": "python3",
      "display_name": "Python 3"
    }
  },
  "cells": [
    {
      "cell_type": "markdown",
      "metadata": {
        "id": "view-in-github",
        "colab_type": "text"
      },
      "source": [
        "<a href=\"https://colab.research.google.com/github/lutherkhill/codemash2020/blob/master/codemash_final_notebook.ipynb\" target=\"_parent\"><img src=\"https://colab.research.google.com/assets/colab-badge.svg\" alt=\"Open In Colab\"/></a>"
      ]
    },
    {
      "cell_type": "markdown",
      "metadata": {
        "id": "Uhzv3f4W5Dt6",
        "colab_type": "text"
      },
      "source": [
        "# **A Civic Developers Quest to Change Healthcare**\n",
        "\n",
        "---\n",
        "\n"
      ]
    },
    {
      "cell_type": "markdown",
      "metadata": {
        "id": "KrbSKnpU5hVB",
        "colab_type": "text"
      },
      "source": [
        "##personal intro"
      ]
    },
    {
      "cell_type": "markdown",
      "metadata": {
        "id": "_BQPLny65mar",
        "colab_type": "text"
      },
      "source": [
        "##description and problem statement"
      ]
    },
    {
      "cell_type": "markdown",
      "metadata": {
        "id": "7ugZPJq355bK",
        "colab_type": "text"
      },
      "source": [
        "##goals for talk"
      ]
    },
    {
      "cell_type": "markdown",
      "metadata": {
        "id": "EMwStqt-6Fk-",
        "colab_type": "text"
      },
      "source": [
        "# **Build and iterate on the model**"
      ]
    },
    {
      "cell_type": "code",
      "metadata": {
        "id": "i_8i8b6S7YNs",
        "colab_type": "code",
        "colab": {}
      },
      "source": [
        ""
      ],
      "execution_count": 0,
      "outputs": []
    },
    {
      "cell_type": "markdown",
      "metadata": {
        "id": "rN7AW4Ax6TB_",
        "colab_type": "text"
      },
      "source": [
        "# **Deploy model on webapp**\n"
      ]
    },
    {
      "cell_type": "code",
      "metadata": {
        "id": "dNPQW1Ap6hcJ",
        "colab_type": "code",
        "colab": {}
      },
      "source": [
        ""
      ],
      "execution_count": 0,
      "outputs": []
    },
    {
      "cell_type": "markdown",
      "metadata": {
        "id": "gWwMVlWE6kt9",
        "colab_type": "text"
      },
      "source": [
        "# **All the thing I learned along the way**"
      ]
    },
    {
      "cell_type": "code",
      "metadata": {
        "id": "BLXXu_yr61gl",
        "colab_type": "code",
        "colab": {}
      },
      "source": [
        ""
      ],
      "execution_count": 0,
      "outputs": []
    },
    {
      "cell_type": "markdown",
      "metadata": {
        "id": "p5KN1q-V7gjN",
        "colab_type": "text"
      },
      "source": [
        "# **Conclusion**"
      ]
    },
    {
      "cell_type": "code",
      "metadata": {
        "id": "yCOFPWco8PFo",
        "colab_type": "code",
        "colab": {}
      },
      "source": [
        ""
      ],
      "execution_count": 0,
      "outputs": []
    }
  ]
}